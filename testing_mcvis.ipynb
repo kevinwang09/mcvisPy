{
 "cells": [
  {
   "cell_type": "code",
   "execution_count": 5,
   "metadata": {},
   "outputs": [],
   "source": [
    "import mcvispy\n",
    "import numpy as np"
   ]
  },
  {
   "cell_type": "code",
   "execution_count": 6,
   "metadata": {},
   "outputs": [],
   "source": [
    "p = 5\n",
    "n = 20\n",
    "\n",
    "x = np.random.normal(0, 1, n * p).reshape(n, p)\n",
    "x[:, 0] = x[:, 1] + np.random.normal(0, 0.5, n)\n",
    "index = np.random.choice(range(n), n)\n",
    "x_sample = x[index, :]  # X1 in R"
   ]
  },
  {
   "cell_type": "code",
   "execution_count": 7,
   "metadata": {},
   "outputs": [
    {
     "name": "stdout",
     "output_type": "stream",
     "text": [
      "{'mc_pd':           1         2         3         4         5\n",
      "5  0.099124  0.087695  0.503126  0.136236  0.173820\n",
      "4  0.193384  0.397668  0.116062  0.103485  0.189401\n",
      "3  0.121389  0.365713  0.169922  0.198868  0.144108\n",
      "2  0.084629  0.175000  0.133215  0.470017  0.137140\n",
      "1  0.574245  0.149852  0.027385  0.010435  0.238083, 't_square': array([[  1.82569064,   1.61519903,   9.26672029,   2.50922796,\n",
      "          3.20146735],\n",
      "       [  6.42309456,  13.2082211 ,   3.85488687,   3.43716982,\n",
      "          6.29080021],\n",
      "       [  3.28977089,   9.91116698,   4.60505931,   5.38951741,\n",
      "          3.90545529],\n",
      "       [  8.14505318,  16.842782  ,  12.82115966,  45.23647908,\n",
      "         13.19895508],\n",
      "       [332.45736348,  86.75606071,  15.85466308,   6.04142115,\n",
      "        137.83736157]])}\n"
     ]
    }
   ],
   "source": [
    "out = mcvispy.mcvispy(x, standardise_method = \"euclidean\")\n",
    "print(out)"
   ]
  },
  {
   "cell_type": "code",
   "execution_count": 8,
   "metadata": {},
   "outputs": [
    {
     "name": "stdout",
     "output_type": "stream",
     "text": [
      "{'mc_pd':           1         2         3         4         5\n",
      "5  0.235664  0.275761  0.062223  0.267884  0.158468\n",
      "4  0.088412  0.250771  0.074379  0.118674  0.467765\n",
      "3  0.045779  0.102426  0.466631  0.040757  0.344407\n",
      "2  0.012731  0.021715  0.520593  0.419083  0.025879\n",
      "1  0.594757  0.362747  0.001618  0.035273  0.005604, 't_square': array([[9.13644063e+00, 1.06909542e+01, 2.41230802e+00, 1.03855669e+01,\n",
      "        6.14363910e+00],\n",
      "       [1.98903833e+00, 5.64170655e+00, 1.67334260e+00, 2.66985457e+00,\n",
      "        1.05235324e+01],\n",
      "       [2.25540787e+00, 5.04630419e+00, 2.29897786e+01, 2.00801802e+00,\n",
      "        1.69680987e+01],\n",
      "       [1.22110658e+00, 2.08284215e+00, 4.99339970e+01, 4.01974234e+01,\n",
      "        2.48223018e+00],\n",
      "       [1.29758995e+03, 7.91410773e+02, 3.53014061e+00, 7.69562393e+01,\n",
      "        1.22271349e+01]])}\n"
     ]
    }
   ],
   "source": [
    "out = mcvispy.mcvispy(x, standardise_method = \"none\")\n",
    "print(out)"
   ]
  },
  {
   "cell_type": "code",
   "execution_count": null,
   "metadata": {},
   "outputs": [],
   "source": []
  },
  {
   "cell_type": "code",
   "execution_count": null,
   "metadata": {},
   "outputs": [],
   "source": []
  },
  {
   "cell_type": "code",
   "execution_count": null,
   "metadata": {},
   "outputs": [],
   "source": []
  },
  {
   "cell_type": "code",
   "execution_count": null,
   "metadata": {},
   "outputs": [],
   "source": []
  },
  {
   "cell_type": "code",
   "execution_count": null,
   "metadata": {},
   "outputs": [],
   "source": []
  }
 ],
 "metadata": {
  "kernelspec": {
   "display_name": "Python 3",
   "language": "python",
   "name": "python3"
  },
  "language_info": {
   "codemirror_mode": {
    "name": "ipython",
    "version": 3
   },
   "file_extension": ".py",
   "mimetype": "text/x-python",
   "name": "python",
   "nbconvert_exporter": "python",
   "pygments_lexer": "ipython3",
   "version": "3.6.5"
  }
 },
 "nbformat": 4,
 "nbformat_minor": 2
}
