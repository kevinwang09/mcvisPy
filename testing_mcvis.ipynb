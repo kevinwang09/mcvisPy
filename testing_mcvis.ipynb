{
 "cells": [
  {
   "cell_type": "code",
   "execution_count": 16,
   "metadata": {},
   "outputs": [
    {
     "ename": "SyntaxError",
     "evalue": "invalid syntax (<ipython-input-16-40ae6d5a0f4f>, line 62)",
     "output_type": "error",
     "traceback": [
      "\u001b[0;36m  File \u001b[0;32m\"<ipython-input-16-40ae6d5a0f4f>\"\u001b[0;36m, line \u001b[0;32m62\u001b[0m\n\u001b[0;31m    else standardise_method == \"none\":\u001b[0m\n\u001b[0m                          ^\u001b[0m\n\u001b[0;31mSyntaxError\u001b[0m\u001b[0;31m:\u001b[0m invalid syntax\n"
     ]
    }
   ],
   "source": [
    "import numpy as np\n",
    "import pandas as pd\n",
    "import statsmodels.api as sm\n",
    "\n",
    "\n",
    "def chunks(l, n):\n",
    "    \"\"\"Yield successive n-sized chunks from l.\"\"\"\n",
    "    for i in range(0, len(l), n):\n",
    "        yield l[i:i + n]\n",
    "\n",
    "def one_mcvis_euclidean(x_sample):\n",
    "    x_sample_mean = x_sample.mean(axis=0, keepdims=True)\n",
    "    x_sample_centred = x_sample - x_sample_mean  # X2 in R\n",
    "    s = np.sqrt(np.sum(x_sample_centred ** 2, axis=0))  # s in R\n",
    "    Z = x_sample_centred / s  # Z in R\n",
    "    x_norm = np.sqrt(np.sum(x_sample ** 2, axis=0))  # x_norm in R\n",
    "    v = x_norm / s  # v in R\n",
    "    D = np.diag(v)  # D in R\n",
    "    Z1 = np.matmul(Z, D)  # Z1 in R\n",
    "    crossprodZ1 = np.matmul(np.transpose(Z1), Z1)\n",
    "    eigens = np.linalg.svd(crossprodZ1, compute_uv=False)  # Not in R\n",
    "    v2 = 1 / eigens  # Not in R\n",
    "    vif = np.diag(np.linalg.inv(crossprodZ1))  # Not in R\n",
    "    result = dict();\n",
    "    result[\"v2\"] = v2\n",
    "    result[\"vif\"] = vif\n",
    "\n",
    "    return(result)\n",
    "\n",
    "\n",
    "def one_mcvis_none(x_sample):\n",
    "    crossprodX1 = np.matmul(np.transpose(x_sample), x_sample)\n",
    "    eigens = np.linalg.svd(crossprodX1, compute_uv=False)  # Not in R\n",
    "    v2 = 1 / eigens  # Not in R\n",
    "    vif = np.diag(np.linalg.inv(crossprodX1))  # Not in R\n",
    "    result = dict();\n",
    "    result[\"v2\"] = v2\n",
    "    result[\"vif\"] = vif\n",
    "\n",
    "    return(result)\n",
    "\n",
    "def mcvisPy(x, standardise_method = \"euclidean\"):\n",
    "    n = x.shape[0]\n",
    "    p = x.shape[1]\n",
    "\n",
    "    #    print(\"n is \", n)\n",
    "    #    print(\"p is \", p)\n",
    "    #    print(\"x is \\n\", np.round(x, 2))\n",
    "    #    print(\"Modified x's first column is \\n\", np.round(x[:, 0], 2))\n",
    "    #    print(\"Correlation matrix of x\", np.corrcoef(x, rowvar = False))\n",
    "\n",
    "    nexp = 1000\n",
    "    v2_mat = np.ones((p, nexp))\n",
    "    vif_mat = np.ones((p, nexp))\n",
    "\n",
    "    for i in range(nexp):\n",
    "        index = np.random.choice(range(n), n)\n",
    "        x_sample = x[index, :]  # X1 in R\n",
    "        \n",
    "        if standardise_method == \"euclidean\": \n",
    "            out = one_mcvis_euclidean(x_sample)\n",
    "        else standardise_method == \"none\":\n",
    "            out = one_mcvis_none(x_sample)\n",
    "\n",
    "        v2_mat[:, i] = out[\"v2\"]  # v2 in R\n",
    "        vif_mat[:, i] = out[\"vif\"]  # vif in R\n",
    "\n",
    "    index_list = list(chunks(range(1000), 100))  # indexList in R\n",
    "    tstat_mat = np.ones((p, 10))\n",
    "    tor = np.ones((p, p))\n",
    "\n",
    "    for j in range(p):\n",
    "        for this_index in range(10):\n",
    "            lmy = v2_mat[j, index_list[this_index]]\n",
    "            lmx = sm.add_constant(np.transpose(vif_mat[:, index_list[this_index]]))\n",
    "            lm_obj = sm.OLS(lmy, lmx)\n",
    "            lm_result = lm_obj.fit()\n",
    "            lm_tvalues = lm_result.tvalues\n",
    "            tstat_mat[:, this_index] = lm_tvalues[1:]\n",
    "        tor[j, :] = np.mean(tstat_mat ** 2, axis=1)\n",
    "\n",
    "    tor_rowsums = np.sum(tor, axis=1, keepdims=True)  # not in R\n",
    "    mc = tor / tor_rowsums\n",
    "    mc_rownames = range(p + 1)[1:]\n",
    "\n",
    "    mc_pd = pd.DataFrame(mc,\n",
    "                         columns=mc_rownames,\n",
    "                         index=mc_rownames[::-1])\n",
    "\n",
    "    result = dict()\n",
    "    result[\"mc_pd\"] = mc_pd\n",
    "    result[\"t_square\"] = tor\n",
    "\n",
    "    return result"
   ]
  },
  {
   "cell_type": "code",
   "execution_count": 17,
   "metadata": {},
   "outputs": [],
   "source": [
    "p = 5\n",
    "n = 20\n",
    "\n",
    "x = np.random.normal(0, 1, n * p).reshape(n, p)\n",
    "x[:, 0] = x[:, 1] + np.random.normal(0, 0.5, n)\n",
    "index = np.random.choice(range(n), n)\n",
    "x_sample = x[index, :]  # X1 in R"
   ]
  },
  {
   "cell_type": "code",
   "execution_count": 19,
   "metadata": {},
   "outputs": [
    {
     "name": "stdout",
     "output_type": "stream",
     "text": [
      "{'v2': array([ 0.2795075 ,  0.87662821,  2.53034324,  4.63085754, 16.33564058]), 'vif': array([7.32840434, 8.58596245, 2.75274495, 3.15254421, 2.83332112])}\n",
      "[ 0.2795075   0.87662821  2.53034324  4.63085754 16.33564058]\n",
      "[7.32840434 8.58596245 2.75274495 3.15254421 2.83332112]\n"
     ]
    }
   ],
   "source": [
    "out = one_mcvis_euclidean(x_sample)\n",
    "print(out)\n",
    "print(out[\"v2\"])\n",
    "print(out[\"vif\"])"
   ]
  },
  {
   "cell_type": "code",
   "execution_count": 20,
   "metadata": {},
   "outputs": [
    {
     "name": "stdout",
     "output_type": "stream",
     "text": [
      "{'v2': array([0.0137303 , 0.04986985, 0.09520612, 0.21499601, 0.98876779]), 'vif': array([0.38940767, 0.59266957, 0.06702637, 0.16388476, 0.14958171])}\n",
      "[0.0137303  0.04986985 0.09520612 0.21499601 0.98876779]\n",
      "[0.38940767 0.59266957 0.06702637 0.16388476 0.14958171]\n"
     ]
    }
   ],
   "source": [
    "out = one_mcvis_none(x_sample)\n",
    "print(out)\n",
    "print(out[\"v2\"])\n",
    "print(out[\"vif\"])"
   ]
  },
  {
   "cell_type": "code",
   "execution_count": 21,
   "metadata": {},
   "outputs": [],
   "source": [
    "out = mcvisPy(x, standardise_method = \"euclidean\")"
   ]
  },
  {
   "cell_type": "code",
   "execution_count": 22,
   "metadata": {},
   "outputs": [
    {
     "name": "stdout",
     "output_type": "stream",
     "text": [
      "{'mc_pd':           1         2         3         4         5\n",
      "5  0.161551  0.132891  0.304449  0.339780  0.061330\n",
      "4  0.111188  0.077066  0.302678  0.213782  0.295286\n",
      "3  0.113628  0.127386  0.250127  0.446911  0.061949\n",
      "2  0.039996  0.041407  0.167742  0.500507  0.250347\n",
      "1  0.314710  0.588246  0.040957  0.040665  0.015422, 't_square': array([[  3.8890257 ,   3.19910247,   7.32902632,   8.17954845,\n",
      "          1.47640072],\n",
      "       [  2.25008262,   1.55955701,   6.12520533,   4.32623104,\n",
      "          5.97559809],\n",
      "       [  4.81115195,   5.39368064,  10.59069721,  18.92281779,\n",
      "          2.62301274],\n",
      "       [  5.28476875,   5.4712215 ,  22.16402225,  66.13280667,\n",
      "         33.07882696],\n",
      "       [202.29917365, 378.13130228,  26.32775797,  26.14003311,\n",
      "          9.91345524]])}\n"
     ]
    }
   ],
   "source": [
    "print(out)"
   ]
  },
  {
   "cell_type": "code",
   "execution_count": 24,
   "metadata": {},
   "outputs": [],
   "source": [
    "out = mcvisPy(x, standardise_method = \"none\")"
   ]
  },
  {
   "cell_type": "code",
   "execution_count": 25,
   "metadata": {},
   "outputs": [
    {
     "data": {
      "text/plain": [
       "{'mc_pd':           1         2         3         4         5\n",
       " 5  0.182069  0.189206  0.237770  0.088708  0.302248\n",
       " 4  0.146218  0.207032  0.363126  0.154469  0.129156\n",
       " 3  0.140844  0.167583  0.063800  0.568503  0.059270\n",
       " 2  0.049279  0.062686  0.104042  0.506842  0.277151\n",
       " 1  0.198582  0.769031  0.004236  0.011310  0.016842,\n",
       " 't_square': array([[1.29953074e+00, 1.35047397e+00, 1.69710199e+00, 6.33158585e-01,\n",
       "         2.15732466e+00],\n",
       "        [2.46786669e+00, 3.49429831e+00, 6.12884090e+00, 2.60712434e+00,\n",
       "         2.17988910e+00],\n",
       "        [3.75177583e+00, 4.46405034e+00, 1.69948764e+00, 1.51436530e+01,\n",
       "         1.57882625e+00],\n",
       "        [8.71135833e+00, 1.10812329e+01, 1.83920661e+01, 8.95968615e+01,\n",
       "         4.89933779e+01],\n",
       "        [3.60663217e+02, 1.39671155e+03, 7.69426641e+00, 2.05404678e+01,\n",
       "         3.05878302e+01]])}"
      ]
     },
     "execution_count": 25,
     "metadata": {},
     "output_type": "execute_result"
    }
   ],
   "source": [
    "out"
   ]
  },
  {
   "cell_type": "code",
   "execution_count": null,
   "metadata": {},
   "outputs": [],
   "source": []
  }
 ],
 "metadata": {
  "kernelspec": {
   "display_name": "Python 3",
   "language": "python",
   "name": "python3"
  },
  "language_info": {
   "codemirror_mode": {
    "name": "ipython",
    "version": 3
   },
   "file_extension": ".py",
   "mimetype": "text/x-python",
   "name": "python",
   "nbconvert_exporter": "python",
   "pygments_lexer": "ipython3",
   "version": "3.6.5"
  }
 },
 "nbformat": 4,
 "nbformat_minor": 2
}
